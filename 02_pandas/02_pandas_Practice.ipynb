{
 "cells": [
  {
   "cell_type": "markdown",
   "metadata": {},
   "source": [
    "### 실습문제"
   ]
  },
  {
   "cell_type": "code",
   "execution_count": 81,
   "metadata": {},
   "outputs": [],
   "source": [
    "import pandas as pd\n",
    "stock_info = pd.read_csv(\"../00_data/stock_daily_prices.csv\")\n"
   ]
  },
  {
   "cell_type": "markdown",
   "metadata": {},
   "source": [
    "### 문제 1 각 종목의 최고가와 최저가 찾기"
   ]
  },
  {
   "cell_type": "code",
   "execution_count": 82,
   "metadata": {},
   "outputs": [
    {
     "name": "stdout",
     "output_type": "stream",
     "text": [
      "각 종목의 최고 주가  \n",
      "AAPL      455.609985\n",
      "BA        440.619995\n",
      "T          43.470001\n",
      "MGM        38.029999\n",
      "AMZN     3225.000000\n",
      "IBM       215.800003\n",
      "TSLA     1643.000000\n",
      "GOOG     1568.489990\n",
      "sp500    3386.149902\n",
      "dtype: float64\n",
      "\n",
      "각 종목의 최저 주가  \n",
      "AAPL       55.790001\n",
      "BA         67.239998\n",
      "T          26.770000\n",
      "MGM         7.140000\n",
      "AMZN      175.929993\n",
      "IBM        94.769997\n",
      "TSLA       22.790001\n",
      "GOOG      278.481171\n",
      "sp500    1278.040039\n",
      "dtype: float64\n",
      "각 종목의 최고 주가  \n",
      "Date      2020-08-11\n",
      "AAPL      455.609985\n",
      "BA        440.619995\n",
      "T          43.470001\n",
      "MGM        38.029999\n",
      "AMZN          3225.0\n",
      "IBM       215.800003\n",
      "TSLA          1643.0\n",
      "GOOG      1568.48999\n",
      "sp500    3386.149902\n",
      "dtype: object\n",
      "\n",
      "각 종목의 최저 주가  \n",
      "Date      2012-01-12\n",
      "AAPL       55.790001\n",
      "BA         67.239998\n",
      "T              26.77\n",
      "MGM             7.14\n",
      "AMZN      175.929993\n",
      "IBM        94.769997\n",
      "TSLA       22.790001\n",
      "GOOG      278.481171\n",
      "sp500    1278.040039\n",
      "dtype: object\n"
     ]
    }
   ],
   "source": [
    "# 기초 통계 계산\n",
    "stock_info = pd.read_csv(\"../00_data/stock_daily_prices.csv\", index_col=\"Date\", encoding=None)\n",
    "\n",
    "max_prices = stock_info.max()\n",
    "print(f\"각 종목의 최고 주가  \\n{max_prices}\")\n",
    "\n",
    "print()\n",
    "min_prices = stock_info.min()\n",
    "print(f\"각 종목의 최저 주가  \\n{min_prices}\")\n",
    "\n",
    "\n",
    "#  ------------- 강사님 버전\n",
    "\n",
    "stock_info = pd.read_csv(\"../00_data/stock_daily_prices.csv\")\n",
    "max_prices = stock_info.max()\n",
    "print(f\"각 종목의 최고 주가  \\n{max_prices}\")\n",
    "\n",
    "print()\n",
    "min_prices = stock_info.min()\n",
    "print(f\"각 종목의 최저 주가  \\n{min_prices}\")\n"
   ]
  },
  {
   "cell_type": "markdown",
   "metadata": {},
   "source": [
    "### 문제 2. sp500과 TSLA간의 상관관계 분석"
   ]
  },
  {
   "cell_type": "code",
   "execution_count": 83,
   "metadata": {},
   "outputs": [
    {
     "name": "stdout",
     "output_type": "stream",
     "text": [
      "       index  TSLA  sp500\n",
      "index   1.00  0.69   0.97\n",
      "TSLA    0.69  1.00   0.70\n",
      "sp500   0.97  0.70   1.00\n",
      "0.7043076473484606\n"
     ]
    }
   ],
   "source": [
    "stock_info_copy = stock_info.copy()\n",
    "stock_info_copy.reset_index(inplace=True)\n",
    "correlation_matrix = stock_info_copy.drop(columns=[\"AAPL\",\"BA\",\"T\",\"MGM\",\"AMZN\",\"IBM\",\"Date\",\"GOOG\"]).corr()\n",
    "# correlation_matrix = ~stock_info_copy.drop(columns=[\"TSLA\",\"sp500\"]).corr()\n",
    "print(correlation_matrix.round(2))\n",
    "\n",
    "# -------- 강사님버전\n",
    "\n",
    "st500_tsla_corr = stock_info[[\"sp500\",\"TSLA\"]].corr().iloc[0,1]\n",
    "print(st500_tsla_corr)"
   ]
  },
  {
   "cell_type": "markdown",
   "metadata": {},
   "source": [
    "### 문제 3. 특정기간(2012-01-12 ~ 2012-01-25) 동안 가장 많이 상승한 종목 찾기"
   ]
  },
  {
   "cell_type": "code",
   "execution_count": 79,
   "metadata": {},
   "outputs": [
    {
     "name": "stdout",
     "output_type": "stream",
     "text": [
      " 가장 많이 상승한 종목 : nan 상승 가격 : nan\n",
      "2012-01 ~ 2012-01-25 기간 도안 가장 많이 상승한 종목 : MGM, 상승폭 : 8.08\n"
     ]
    },
    {
     "name": "stderr",
     "output_type": "stream",
     "text": [
      "C:\\Users\\geon\\AppData\\Local\\Temp\\ipykernel_16360\\3437281923.py:5: FutureWarning: The behavior of Series.idxmax with all-NA values, or any-NA and skipna=False, is deprecated. In a future version this will raise ValueError\n",
      "  max_price_stock = specific_day_upmax_prices.idxmax()\n"
     ]
    }
   ],
   "source": [
    "specific_day_prices = stock_info.loc[\"2012-01-12\" : \"2012-01-25\"]\n",
    "specific_day_max_prices = specific_day_prices.max()\n",
    "specific_day_min_prices = specific_day_prices.min()\n",
    "specific_day_upmax_prices = specific_day_max_prices - specific_day_min_prices\n",
    "max_price_stock = specific_day_upmax_prices.idxmax()\n",
    "max_price_value = specific_day_upmax_prices.max()\n",
    "print(f\" 가장 많이 상승한 종목 : {max_price_stock} 상승 가격 : {max_price_value}\")\n",
    "\n",
    "# ____________강사님 버전\n",
    "\n",
    "period_date = stock_info[(stock_info[\"Date\"] >= \"2012-01-12\") & (stock_info[\"Date\"] <= \"2012-01-25\")].drop(columns=\"Date\")\n",
    "price_increase = (period_date.iloc[-1] - period_date.iloc[0]) / period_date.iloc[0] * 100\n",
    "\n",
    "max_increase_stock = price_increase.idxmax()\n",
    "max_increase_value = price_increase.max()\n",
    "\n",
    "print(f\"2012-01 ~ 2012-01-25 기간 도안 가장 많이 상승한 종목 : {max_increase_stock}, 상승폭 : {max_increase_value.round(2)}\")"
   ]
  },
  {
   "cell_type": "code",
   "execution_count": null,
   "metadata": {},
   "outputs": [],
   "source": []
  }
 ],
 "metadata": {
  "kernelspec": {
   "display_name": "dataAnalysis",
   "language": "python",
   "name": "python3"
  },
  "language_info": {
   "codemirror_mode": {
    "name": "ipython",
    "version": 3
   },
   "file_extension": ".py",
   "mimetype": "text/x-python",
   "name": "python",
   "nbconvert_exporter": "python",
   "pygments_lexer": "ipython3",
   "version": "3.12.7"
  }
 },
 "nbformat": 4,
 "nbformat_minor": 2
}
