{
 "cells": [
  {
   "cell_type": "markdown",
   "metadata": {},
   "source": [
    "# 실습 문제"
   ]
  },
  {
   "cell_type": "code",
   "execution_count": 4,
   "metadata": {},
   "outputs": [
    {
     "data": {
      "text/plain": [
       "array([['2012-01-12', '60.19857', '75.510002', ..., '28.25',\n",
       "        '313.644379', '1295.5'],\n",
       "       ['2012-01-13', '59.972857999999995', '74.599998', ...,\n",
       "        '22.790001', '311.32806400000004', '1289.089966'],\n",
       "       ['2012-01-17', '60.671429', '75.239998', ..., '26.6',\n",
       "        '313.11636400000003', '1293.670044'],\n",
       "       ...,\n",
       "       ['2020-08-07', '444.450012', '170.020004', ..., '1452.709961',\n",
       "        '1494.48999', '3351.280029'],\n",
       "       ['2020-08-10', '450.910004', '179.41000400000001', ...,\n",
       "        '1418.569946', '1496.099976', '3360.469971'],\n",
       "       ['2020-08-11', '437.5', '180.130005', ..., '1374.390015',\n",
       "        '1480.319946', '3333.689941']], dtype='<U32')"
      ]
     },
     "execution_count": 4,
     "metadata": {},
     "output_type": "execute_result"
    }
   ],
   "source": [
    "import numpy as np\n",
    "stock_info = np.genfromtxt(\"../00_data/stock_daily_prices.csv\", delimiter=\",\", dtype=None, encoding=None, skip_header=1)\n",
    "stock_info = np.vstack([stock_info[\"f0\"],stock_info[\"f1\"],stock_info[\"f2\"],\n",
    "                        stock_info[\"f3\"],stock_info[\"f4\"],stock_info[\"f5\"],\n",
    "                        stock_info[\"f6\"],stock_info[\"f7\"],stock_info[\"f8\"],\n",
    "                        stock_info[\"f9\"]]).T\n",
    "\n",
    "stock_info"
   ]
  },
  {
   "cell_type": "markdown",
   "metadata": {},
   "source": [
    "# 문제 1: 각 종목의 최고가와 최저가를 찾기\n",
    "각 종목의 최고 주가와 최저 주가를 찾아본다."
   ]
  },
  {
   "cell_type": "code",
   "execution_count": 5,
   "metadata": {},
   "outputs": [
    {
     "name": "stdout",
     "output_type": "stream",
     "text": [
      "각 종목별 최고 주가 : [['AAPL' 'BA' 'T' 'MGM' 'AMZN' 'IBM' 'TSLA' 'GOOG' 'SP500']\n",
      " ['455.60998499999994' '440.619995' '43.470001' '38.029999' '3225.0'\n",
      "  '215.80000299999998' '1643.0' '1568.48999' '3386.149902']]\n",
      "--------------------------------------------------------------------------------\n",
      "각 종목별 최저 주가 : [['AAPL' 'BA' 'T' 'MGM' 'AMZN' 'IBM' 'TSLA' 'GOOG' 'SP500']\n",
      " ['55.790001000000004' '67.239998' '26.77' '7.14' '175.929993'\n",
      "  '94.769997' '22.790001' '278.481171' '1278.040039']]\n",
      "AAPL의 최고 주가 : 455.61, 최저 주가 : 55.79\n",
      "BA의 최고 주가 : 440.62, 최저 주가 : 67.24\n",
      "I의 최고 주가 : 43.47, 최저 주가 : 26.77\n",
      "MGM의 최고 주가 : 38.03, 최저 주가 : 7.14\n",
      "AMZN의 최고 주가 : 3225.0, 최저 주가 : 175.93\n",
      "IBM의 최고 주가 : 215.8, 최저 주가 : 94.77\n",
      "TSLA의 최고 주가 : 1643.0, 최저 주가 : 22.79\n",
      "GOOG의 최고 주가 : 1568.49, 최저 주가 : 278.48\n",
      "SP500의 최고 주가 : 3386.15, 최저 주가 : 1278.04\n"
     ]
    }
   ],
   "source": [
    "stock_prices = stock_info[:, 1:].astype(float)\n",
    "\n",
    "# 각 종목의 최고 주가 계산\n",
    "\n",
    "max_prices = np.max(stock_prices, axis=0) # 행을 기준으로 stock_prices의 최고 주가를 도출함.\n",
    "\n",
    "# 각 종목의 최저 주가 계산\n",
    "min_prices = np.min(stock_prices, axis=0) # 행을 기준으로 stock_prices의 최저 주가를 도출함.\n",
    "\n",
    "#주가 필드 계산\n",
    "stocks = [\"AAPL\", \"BA\", \"T\", \"MGM\", \"AMZN\", \"IBM\", \"TSLA\", \"GOOG\", \"SP500\"]\n",
    "\n",
    "max_arry = np.vstack([stocks, max_prices])\n",
    "min_arry = np.vstack([stocks, min_prices])\n",
    "print(f\"각 종목별 최고 주가 : {max_arry}\")\n",
    "print(\"----\"*20)\n",
    "print(f\"각 종목별 최저 주가 : {min_arry}\")\n",
    "\n",
    "# --------------------------------------- 강사님 버전\n",
    "\n",
    "max_prices = np.max(stock_info[:, 1:].astype(float), axis=0)\n",
    "min_prices = np.min(stock_info[:, 1:].astype(float), axis=0)\n",
    "stocks = [\"AAPL\", \"BA\", \"I\", \"MGM\", \"AMZN\", \"IBM\", \"TSLA\", \"GOOG\", \"SP500\"]\n",
    "\n",
    "for stock, max_price, min_price in zip(stocks, max_prices, min_prices) :\n",
    "    print(f\"{stock}의 최고 주가 : {max_price.round(2)}, 최저 주가 : {min_price.round(2)}\")\n",
    "\n",
    "\n"
   ]
  },
  {
   "cell_type": "markdown",
   "metadata": {},
   "source": [
    "# 문제 2: SP500과 TSLA간의 상관관계 분석\n",
    "SP500 지수와 테슬라(TSLA)간의 상관관계를 계산하고, 두 종목 간의 상관성이 높은지 확인한다."
   ]
  },
  {
   "cell_type": "code",
   "execution_count": 8,
   "metadata": {},
   "outputs": [
    {
     "name": "stdout",
     "output_type": "stream",
     "text": [
      "SP500와 TSLA간의 상관 관계 행렬:\n",
      "[[1.         0.70430765]\n",
      " [0.70430765 1.        ]]\n",
      "[[1.         0.70430765]\n",
      " [0.70430765 1.        ]]\n",
      "Tsla와 SP500의 상관관계 : 0.704307647348461\n"
     ]
    }
   ],
   "source": [
    "# \"SP500\"과 \"TSLA\"의 인덱스를 찾아 해당 열을 선택\n",
    "sp500_index = stocks.index(\"SP500\")\n",
    "tsla_index = stocks.index(\"TSLA\")\n",
    "\n",
    "# 해당 열만 추출하여 상관 관계 계산\n",
    "selected_data = stock_prices[:, [sp500_index, tsla_index]].astype(float)\n",
    "\n",
    "# 상관 관계 계산\n",
    "correlation_matrix = np.corrcoef(selected_data.T)\n",
    "print(\"SP500와 TSLA간의 상관 관계 행렬:\")\n",
    "print(correlation_matrix)\n",
    "\n",
    "# --------------------------------------- 강사님 버전\n",
    "\n",
    "tsla_prices = stock_info[:, 7].astype(float)\n",
    "sp500_prices = stock_info[:, 9].astype(float)\n",
    "\n",
    "correlation = np.corrcoef(tsla_prices, sp500_prices)[0,1]\n",
    "print(np.corrcoef(tsla_prices, sp500_prices))\n",
    "print(f\"Tsla와 SP500의 상관관계 : {correlation}\")\n",
    "\n"
   ]
  },
  {
   "cell_type": "markdown",
   "metadata": {},
   "source": [
    "# 문제 3: 특정 기간(2012-01-12 ~ 2012-01-25) 동안 가장 많이 상승한 종목 찾기\n",
    "주어진 기간동안 상승폭이 가장 큰 종목 찾기"
   ]
  },
  {
   "cell_type": "code",
   "execution_count": 7,
   "metadata": {},
   "outputs": [
    {
     "name": "stdout",
     "output_type": "stream",
     "text": [
      "2012-01-12 ~ 2012-01-25 가장 많이 상승한 주가를 기록한 종목 : TSLA, 상승폭 : 16.71785358851016\n",
      "2012-01-12 ~ 2012-01-25 기간 동안 가장 많이 상승한 종목 : MGM, 상승률 :8.08\n"
     ]
    }
   ],
   "source": [
    "specific_day_info = stock_info[(stock_info[:, 0] >= \"2012-01-12\") & (stock_info[:, 0] <= \"2012-01-25\")]\n",
    "\n",
    "specific_day_prices = specific_day_info[:, 1:].astype(float)\n",
    "specific_day_returns = np.diff(specific_day_prices, axis=0) / specific_day_prices[:-1] *100\n",
    "\n",
    "# print(specific_day_returns)\n",
    "\n",
    "\n",
    "# 추출한 날에서 가장 많이 상승한 주가를 확인 후 종목 찾기\n",
    "max_price_index = np.argmax(np.max(specific_day_returns, axis=0))\n",
    "max_price_stocks = stocks[max_price_index]\n",
    "max_price_date = np.max(specific_day_returns[:, max_price_index])\n",
    "\n",
    "print(f\"2012-01-12 ~ 2012-01-25 가장 많이 상승한 주가를 기록한 종목 : {max_price_stocks}, 상승폭 : {max_price_date}\")\n",
    "\n",
    "\n",
    "# --------------------------------------- 강사님 버전\n",
    "\n",
    "# 종목 이름 리스트\n",
    "stocks = [\"APPL\", \"BA\", \"T\", \"MGM\", \"AMZN\", \"IBM\", \"TSLA\", \"GOOG\", \"SP500\"]\n",
    "\n",
    "# 기간 필터링(2012-01-12 ~ 2012-01-25)\n",
    "# 기간의 인덱스를 도출함.\n",
    "start_index = np.where(stock_info[:, 0] == \"2012-01-12\")[0][0]\n",
    "end_index = np.where(stock_info[:, 0] == \"2012-01-25\")[0][0]\n",
    "\n",
    "filtered_data = stock_info[start_index : end_index+1, 1:].astype(float)\n",
    "\n",
    "initial_prices = filtered_data[0]\n",
    "final_prices = filtered_data[-1]\n",
    "\n",
    "price_change_percent = (final_prices - initial_prices) / initial_prices * 100\n",
    "\n",
    "max_increase_index = np.argmax(price_change_percent)\n",
    "max_increase_stock = stocks[max_increase_index]\n",
    "max_increase_value = price_change_percent[max_increase_index]\n",
    "\n",
    "print(f\"2012-01-12 ~ 2012-01-25 기간 동안 가장 많이 상승한 종목 : {max_increase_stock}, 상승률 :{max_increase_value:.2f}\")"
   ]
  },
  {
   "cell_type": "code",
   "execution_count": null,
   "metadata": {},
   "outputs": [],
   "source": []
  }
 ],
 "metadata": {
  "kernelspec": {
   "display_name": "dataAnalysis",
   "language": "python",
   "name": "python3"
  },
  "language_info": {
   "codemirror_mode": {
    "name": "ipython",
    "version": 3
   },
   "file_extension": ".py",
   "mimetype": "text/x-python",
   "name": "python",
   "nbconvert_exporter": "python",
   "pygments_lexer": "ipython3",
   "version": "3.12.7"
  }
 },
 "nbformat": 4,
 "nbformat_minor": 2
}
