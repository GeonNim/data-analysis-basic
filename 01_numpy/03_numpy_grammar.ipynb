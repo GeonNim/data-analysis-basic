{
 "cells": [
  {
   "cell_type": "markdown",
   "metadata": {},
   "source": [
    "# numpy\n",
    "1. Numpy 설치\n",
    "  Numpy는 pip를 통해 쉽게 설치가 가능하다. $는 설치하기 위한 명령어\n",
    "  ``` \n",
    "  $pip install numpy\n",
    "  ```"
   ]
  },
  {
   "cell_type": "code",
   "execution_count": 8,
   "metadata": {},
   "outputs": [],
   "source": [
    "# !pip install numpy\n",
    "import numpy as np\n"
   ]
  },
  {
   "cell_type": "markdown",
   "metadata": {},
   "source": [
    "# Numpy 배열 생성\n",
    "numpy에서 가장 중요한 객체는 ndarray로 다차원 배열을 생성하고 관리할 수 있다."
   ]
  },
  {
   "cell_type": "markdown",
   "metadata": {},
   "source": [
    "1. list를 배열로 변환"
   ]
  },
  {
   "cell_type": "code",
   "execution_count": 14,
   "metadata": {},
   "outputs": [
    {
     "name": "stdout",
     "output_type": "stream",
     "text": [
      "[1, 2, 3, 4, 5]\n"
     ]
    },
    {
     "data": {
      "text/plain": [
       "list"
      ]
     },
     "execution_count": 14,
     "metadata": {},
     "output_type": "execute_result"
    }
   ],
   "source": [
    "arr = [1,2,3,4,5]\n",
    "print(arr)\n",
    "type(arr)"
   ]
  },
  {
   "cell_type": "code",
   "execution_count": 13,
   "metadata": {},
   "outputs": [
    {
     "name": "stdout",
     "output_type": "stream",
     "text": [
      "[1 2 3 4 5]\n"
     ]
    },
    {
     "data": {
      "text/plain": [
       "numpy.ndarray"
      ]
     },
     "execution_count": 13,
     "metadata": {},
     "output_type": "execute_result"
    }
   ],
   "source": [
    "ndarry = np.array(arr)\n",
    "print(ndarry)\n",
    "type(ndarry)"
   ]
  },
  {
   "cell_type": "markdown",
   "metadata": {},
   "source": [
    "2. 다차원 배열"
   ]
  },
  {
   "cell_type": "code",
   "execution_count": 11,
   "metadata": {},
   "outputs": [
    {
     "name": "stdout",
     "output_type": "stream",
     "text": [
      "[[1 2 3]\n",
      " [3 4 5]]\n"
     ]
    },
    {
     "data": {
      "text/plain": [
       "numpy.ndarray"
      ]
     },
     "execution_count": 11,
     "metadata": {},
     "output_type": "execute_result"
    }
   ],
   "source": [
    "arr_2d = np.array([[1, 2, 3], [3, 4, 5]])\n",
    "print(arr_2d)\n",
    "type(arr_2d)"
   ]
  },
  {
   "cell_type": "markdown",
   "metadata": {},
   "source": [
    "3.ndarray배열의 속성\n",
    "- 배열의 중요한 속성들을 확인하는 것은 배열을 구조를 파악하는데 필수적이다.<br>\n",
    "  배열의 구조에 따라 데이터를 조작하는 방식이 달라지기 때문이다."
   ]
  },
  {
   "cell_type": "code",
   "execution_count": 19,
   "metadata": {},
   "outputs": [
    {
     "name": "stdout",
     "output_type": "stream",
     "text": [
      "(5,)\n",
      "(2, 3)\n",
      "int64\n",
      "int64\n",
      "1\n",
      "2\n"
     ]
    }
   ],
   "source": [
    "print(ndarry.shape) # 배열의 차원을 확인 : 1차원 배열이 5개\n",
    "print(arr_2d.shape) # : 2차원 배열 2개 1차원 배열 3개\n",
    "\n",
    "print(ndarry.dtype) # 데이터의 타입을 확인\n",
    "print(arr_2d.dtype)\n",
    "\n",
    "print(ndarry.ndim) # 배열의 차원 수 확인\n",
    "print(arr_2d.ndim)"
   ]
  },
  {
   "cell_type": "markdown",
   "metadata": {},
   "source": [
    "4. 배열 초기화\n",
    "- numpy는 배열을 초기화하는 여러 방법을 제공한다."
   ]
  },
  {
   "cell_type": "code",
   "execution_count": 23,
   "metadata": {},
   "outputs": [
    {
     "name": "stdout",
     "output_type": "stream",
     "text": [
      "[[0. 0. 0.]\n",
      " [0. 0. 0.]\n",
      " [0. 0. 0.]]\n",
      "---------\n",
      "[[1. 1.]\n",
      " [1. 1.]]\n",
      "---------\n",
      "[[7 7 7]\n",
      " [7 7 7]\n",
      " [7 7 7]]\n",
      "---------\n",
      "[[0.08856084 0.82803221]\n",
      " [0.72397447 0.23847465]]\n",
      "---------\n"
     ]
    }
   ],
   "source": [
    "arr_2d = np.zeros((3,3)) # 3 * 3 배열을 생성한다.\n",
    "print(arr_2d)\n",
    "print(\"---------\")\n",
    "\n",
    "arr_2d = np.ones((2,2)) # 2 * 2 배열을 생성하고 값을 1로 채움\n",
    "print(arr_2d)\n",
    "print(\"---------\")\n",
    "\n",
    "arr_2d = np.full((3,3), 7) # 3*3 배열을 생성하고 값을 원하는 값(여기선 7)으로 채움\n",
    "print(arr_2d)\n",
    "print(\"---------\")\n",
    "\n",
    "arr_2d = np.random.random((2,2)) # 2*2 배열을 생성하고 값을 랜덤하게 채움\n",
    "print(arr_2d)\n",
    "print(\"---------\")\n"
   ]
  },
  {
   "cell_type": "markdown",
   "metadata": {},
   "source": [
    "# 배열 연산 및 슬라이싱\n",
    "- numpy는 백터화된 연산을 ㅅ지원하여 배열 간의 연산을 매우 효율적으로 처리한다."
   ]
  },
  {
   "cell_type": "code",
   "execution_count": 31,
   "metadata": {},
   "outputs": [
    {
     "name": "stdout",
     "output_type": "stream",
     "text": [
      "[1, 2, 3, 4, 5, 6]\n"
     ]
    }
   ],
   "source": [
    "arr1 = [1,2,3]\n",
    "arr2 = [4,5,6]\n",
    "result = arr1 + arr2\n",
    "print(result)"
   ]
  },
  {
   "cell_type": "code",
   "execution_count": 32,
   "metadata": {},
   "outputs": [
    {
     "name": "stdout",
     "output_type": "stream",
     "text": [
      "[5 7 9]\n"
     ]
    }
   ],
   "source": [
    "# list 간 덧셈\n",
    "# 백터 연산을 통해 두 배열의 같은 인덱스 위치에 값을 더한다.\n",
    "arr1 = np.array([1,2,3])\n",
    "arr2 = np.array([4,5,6])\n",
    "result = arr1 + arr2\n",
    "print(result)\n"
   ]
  },
  {
   "cell_type": "code",
   "execution_count": 33,
   "metadata": {},
   "outputs": [
    {
     "name": "stdout",
     "output_type": "stream",
     "text": [
      "[ 4 10 18]\n"
     ]
    }
   ],
   "source": [
    "# 배열 간 행렬 곱\n",
    "result = arr1 * arr2\n",
    "print(result)"
   ]
  },
  {
   "cell_type": "code",
   "execution_count": 34,
   "metadata": {},
   "outputs": [
    {
     "name": "stdout",
     "output_type": "stream",
     "text": [
      "[[19 22]\n",
      " [43 50]]\n"
     ]
    }
   ],
   "source": [
    "# 배열 간 행렬 곱\n",
    "arr1 = np.array([[1,2],[3,4]])\n",
    "arr2 = np.array([[5,6],[7,8]])\n",
    "\n",
    "# 연산 과정\n",
    "# 1*5 + 2*7 = 5, 14\n",
    "# 1*6 + 2*8 = 6, 16\n",
    "# 3*5 + 4*7 = 15, 28\n",
    "# 3*6 + 4*8 = 18, 32\n",
    "\n",
    "\n",
    "result = np.dot(arr1, arr2)\n",
    "print(result)"
   ]
  },
  {
   "cell_type": "markdown",
   "metadata": {},
   "source": [
    "# 배열으 슬라이싱 및 인덱싱"
   ]
  },
  {
   "cell_type": "code",
   "execution_count": 35,
   "metadata": {},
   "outputs": [
    {
     "name": "stdout",
     "output_type": "stream",
     "text": [
      "[2 3 4]\n"
     ]
    }
   ],
   "source": [
    "# 1차원 배열 슬라이싱\n",
    "arr = np.array([1,2,3,4,5])\n",
    "print(arr[1:4]) # 1번 인덱스에서 4미만 인덱스 까지"
   ]
  },
  {
   "cell_type": "code",
   "execution_count": 39,
   "metadata": {},
   "outputs": [
    {
     "name": "stdout",
     "output_type": "stream",
     "text": [
      "[[1 2 3]\n",
      " [4 5 6]\n",
      " [7 8 9]]\n",
      "---------\n",
      "[[2 3]\n",
      " [5 6]]\n"
     ]
    }
   ],
   "source": [
    "# 2차원 배열 슬라이싱\n",
    "arr_2d = np.array([[1,2,3], [4,5,6],[7,8,9]])\n",
    "print(arr_2d)\n",
    "print(\"---------\")\n",
    "print(arr_2d[:2, 1:])\n",
    "\n",
    "# 결과\n",
    "# [[:2 - 0부터 2까지  -> 행을 지시\n",
    "# 1:]] - 1부터 마지막까지 -> 열을 지시"
   ]
  },
  {
   "cell_type": "markdown",
   "metadata": {},
   "source": [
    "# 배열의 형태 변경"
   ]
  },
  {
   "cell_type": "code",
   "execution_count": 40,
   "metadata": {},
   "outputs": [
    {
     "name": "stdout",
     "output_type": "stream",
     "text": [
      "[[1 2 3]\n",
      " [4 5 6]]\n"
     ]
    }
   ],
   "source": [
    "arr = np.array([1,2,3,4,5,6])\n",
    "reshaped_arr = arr.reshape((2,3)) # 2 * 3 배열로 변경\n",
    "print(reshaped_arr)"
   ]
  },
  {
   "cell_type": "code",
   "execution_count": 41,
   "metadata": {},
   "outputs": [
    {
     "name": "stdout",
     "output_type": "stream",
     "text": [
      "[4 5]\n"
     ]
    }
   ],
   "source": [
    "# 조건별 값 선택\n",
    "arr = np.array([1,2,3,4,5])\n",
    "condition = arr>3\n",
    "list = [False, False, False, True, True]\n",
    "\n",
    "filtered_arr = arr[condition]\n",
    "print(filtered_arr)\n",
    "\n",
    "index = []\n",
    "for x in arr :\n",
    "  result = x >3\n",
    "  index.append(result)"
   ]
  },
  {
   "cell_type": "code",
   "execution_count": 42,
   "metadata": {},
   "outputs": [
    {
     "name": "stdout",
     "output_type": "stream",
     "text": [
      "[[[0.5093209  0.53471741 0.6337266 ]\n",
      "  [0.36323527 0.85911067 0.31027524]\n",
      "  [0.95099059 0.07003003 0.98830614]]\n",
      "\n",
      " [[0.2873234  0.53888002 0.89664314]\n",
      "  [0.84987535 0.72740354 0.34963012]\n",
      "  [0.18072053 0.98978258 0.05998437]]\n",
      "\n",
      " [[0.36178355 0.37583236 0.84883101]\n",
      "  [0.89022388 0.98839206 0.44318256]\n",
      "  [0.13452113 0.70405311 0.03776825]]]\n"
     ]
    }
   ],
   "source": [
    "# 고차원 배열\n",
    "# numpy는 1차원 배열뿐만 아니라 3차원, 4차원 이상의 고차원 배열도 쉽게 다룰 수 있다.\n",
    "arr_3d = np.random.random((3,3,3)) #3*3*3 차원 배열 생성\n",
    "print(arr_3d)"
   ]
  },
  {
   "cell_type": "code",
   "execution_count": 46,
   "metadata": {},
   "outputs": [
    {
     "name": "stdout",
     "output_type": "stream",
     "text": [
      "[[1]\n",
      " [2]\n",
      " [3]]\n",
      "[4 5 6]\n"
     ]
    }
   ],
   "source": [
    "# 브로드캐스팅\n",
    "# 브로드캐스팅은 서로 다른 크기의 배열 간의 연산을 가능하게 하는 강력한 기능이다.\n",
    "arr1 = np.array([[1],[2],[3]])\n",
    "arr2 = np.array([4,5,6])\n",
    "print(arr1)\n",
    "print(arr2)"
   ]
  },
  {
   "cell_type": "code",
   "execution_count": 48,
   "metadata": {},
   "outputs": [
    {
     "name": "stdout",
     "output_type": "stream",
     "text": [
      "[[5 6 7]\n",
      " [6 7 8]\n",
      " [7 8 9]]\n"
     ]
    }
   ],
   "source": [
    "# 브로드캐스팅\n",
    "# 브로드캐스팅은 서로 다른 크기의 배열 간의 연산을 가능하게 하는 강력한 기능이다.\n",
    "arr1 = np.array([[1],[2],[3]])\n",
    "arr2 = np.array([4,5,6])\n",
    "\n",
    "result = arr1 + arr2\n",
    "print(result)\n",
    "\n",
    "# 연산과정\n",
    "# 1+4, 1+5, 1+6\n",
    "# 2+4, 2+5, 2+6\n",
    "# 3+4, 3+5, 3+6"
   ]
  },
  {
   "cell_type": "code",
   "execution_count": 49,
   "metadata": {},
   "outputs": [
    {
     "name": "stdout",
     "output_type": "stream",
     "text": [
      "[10 30]\n"
     ]
    }
   ],
   "source": [
    "# 고급 인덱싱 및 슬라이싱\n",
    "# numpyt는 불리언 배열과 정수 배열을 사용하여 복잡한 인덱싱을 지원한다.\n",
    "arr = np.array([10,20,30,40])\n",
    "bool_arr = np.array([True, False, True, False])\n",
    "filtered = arr[bool_arr]\n",
    "print(filtered)\n"
   ]
  },
  {
   "cell_type": "markdown",
   "metadata": {},
   "source": [
    "# 배열 합치기 및 나누기\n",
    "- 배열을 수평 또는 수직으로 합치거나 나누는 방법이다."
   ]
  },
  {
   "cell_type": "code",
   "execution_count": 54,
   "metadata": {},
   "outputs": [
    {
     "name": "stdout",
     "output_type": "stream",
     "text": [
      "[[1 2]\n",
      " [3 4]\n",
      " [5 6]\n",
      " [7 8]]\n",
      "-------\n",
      "[[1 2 5 6]\n",
      " [3 4 7 8]]\n"
     ]
    }
   ],
   "source": [
    "# 배열 합치기\n",
    "arr1 = np.array([[1,2],[3,4]])\n",
    "arr2 = np.array([[5,6],[7,8]])\n",
    "\n",
    "# axis는 (0,1)의 값을 가질 수 있다.\n",
    "# 0 = 행을 기준으로 합치는 조건\n",
    "# 1 = 열을 기준으로 합치는 조건\n",
    "\n",
    "concatenated0 = np.concatenate((arr1,arr2),axis=0)\n",
    "concatenated1 = np.concatenate((arr1,arr2),axis=1)\n",
    "print(concatenated0)\n",
    "print(\"-------\")\n",
    "print(concatenated1)"
   ]
  },
  {
   "cell_type": "code",
   "execution_count": 56,
   "metadata": {},
   "outputs": [
    {
     "name": "stdout",
     "output_type": "stream",
     "text": [
      "[array([[1, 2, 3]]), array([[4, 5, 6]])]\n"
     ]
    }
   ],
   "source": [
    "# 배열 나누기\n",
    "arr = np.array([[1,2,3], [4,5,6]])\n",
    "\n",
    "# split 자르는 메서드\n",
    "\n",
    "split_arr = np.split(arr, 2, axis=0)\n",
    "print(split_arr)"
   ]
  },
  {
   "cell_type": "markdown",
   "metadata": {},
   "source": [
    "# 고급 : Numpy 성능 최적화"
   ]
  },
  {
   "cell_type": "code",
   "execution_count": 58,
   "metadata": {},
   "outputs": [
    {
     "name": "stdout",
     "output_type": "stream",
     "text": [
      "1.15 ms ± 15.6 μs per loop (mean ± std. dev. of 7 runs, 1,000 loops each)\n",
      "124 ms ± 1.66 ms per loop (mean ± std. dev. of 7 runs, 10 loops each)\n"
     ]
    }
   ],
   "source": [
    "# 벡터화 연산과 for 루프의 비교\n",
    "arr = np.random.random(1000000) # 100만개의 난수 생성\n",
    "\n",
    "%timeit np.sum(arr)\n",
    "\n",
    "# for 루프의 연산\n",
    "def slow_sum(arr):\n",
    "  total = 0\n",
    "  for i in arr:\n",
    "    total += i\n",
    "  return total\n",
    "\n",
    "%timeit slow_sum(arr)"
   ]
  },
  {
   "cell_type": "code",
   "execution_count": 61,
   "metadata": {},
   "outputs": [
    {
     "name": "stdout",
     "output_type": "stream",
     "text": [
      "[1 2 3]\n",
      "[1 2 3]\n"
     ]
    }
   ],
   "source": [
    "# 메모리 관리 및 배열\n",
    "# numpy는 메모리를 활용해 효율적인 배열 복사를 지원하며, 명시적으로 복사하지 않으면 같은 메모리 주소를 공유한다.\n",
    "\n",
    "arr = np.array([1,2,3])\n",
    "arr_copy = arr.copy()\n",
    "print(arr_copy)\n",
    "\n",
    "\n",
    "\n",
    "list_copy = arr\n",
    "  \n",
    "print(list_copy)\n"
   ]
  },
  {
   "cell_type": "code",
   "execution_count": null,
   "metadata": {},
   "outputs": [],
   "source": [
    "# 고급 수학 함수\n",
    "# NumPy는 선형 대수, 푸리에 변환, 통계 함수 등 고급 수학 함수들을 제공한다.\n",
    "\n",
    "# 선형 대수\n",
    "# 역행렬\n",
    "# 정사각 행렬 𝐴A에 대해, 그 행렬과 곱했을 때 단위 행렬(identity matrix)을 만들어내는 행렬이다. 쉽게 말하면, 역행렬은 행렬을 \"원래 상태로 돌려놓는\" 역할을 하는 행렬이다.\n",
    "arr = np.array([[1, 2], [3, 4]])\n",
    "inverse = np.linalg.inv(arr)  # 역행렬 구하기\n",
    "print(\"역행렬 : \")\n",
    "print(inverse)\n",
    "print()\n",
    "\n",
    "# 표준편차\n",
    "mean = np.mean(arr)\n",
    "std_dev = np.std(arr)\n",
    "print(\"통계 함수 : \")\n",
    "print(std_dev)"
   ]
  }
 ],
 "metadata": {
  "kernelspec": {
   "display_name": "dataAnalysis",
   "language": "python",
   "name": "python3"
  },
  "language_info": {
   "codemirror_mode": {
    "name": "ipython",
    "version": 3
   },
   "file_extension": ".py",
   "mimetype": "text/x-python",
   "name": "python",
   "nbconvert_exporter": "python",
   "pygments_lexer": "ipython3",
   "version": "3.12.7"
  }
 },
 "nbformat": 4,
 "nbformat_minor": 2
}
